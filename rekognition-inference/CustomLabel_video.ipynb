{
 "cells": [
  {
   "cell_type": "code",
   "execution_count": 1,
   "id": "9f1e04b6",
   "metadata": {},
   "outputs": [],
   "source": [
    "bucket='rekognitioncustomlabels-pvt'"
   ]
  },
  {
   "cell_type": "code",
   "execution_count": 2,
   "id": "17f2dc02",
   "metadata": {},
   "outputs": [
    {
     "name": "stdout",
     "output_type": "stream",
     "text": [
      "Starting model: arn:aws:rekognition:us-west-2:406078665760:project/SmartStream-evm-custom-label-Dec2021/version/SmartStream-evm-custom-label-Dec2021.2021-12-21T13.46.11/1640119571232\n",
      "Status: RUNNING\n",
      "Message: The model is running.\n",
      "Done...\n"
     ]
    }
   ],
   "source": [
    "#Copyright 2020 Amazon.com, Inc. or its affiliates. All Rights Reserved.\n",
    "#PDX-License-Identifier: MIT-0 (For details, see https://github.com/awsdocs/amazon-rekognition-custom-labels-developer-guide/blob/master/LICENSE-SAMPLECODE.)\n",
    "\n",
    "import boto3\n",
    "\n",
    "def start_model(project_arn, model_arn, version_name, min_inference_units):\n",
    "\n",
    "    client=boto3.client('rekognition')\n",
    "\n",
    "    try:\n",
    "        # Start the model\n",
    "        print('Starting model: ' + model_arn)\n",
    "        response=client.start_project_version(ProjectVersionArn=model_arn, MinInferenceUnits=min_inference_units)\n",
    "        # Wait for the model to be in the running state\n",
    "        project_version_running_waiter = client.get_waiter('project_version_running')\n",
    "        project_version_running_waiter.wait(ProjectArn=project_arn, VersionNames=[version_name])\n",
    "\n",
    "        #Get the running status\n",
    "        describe_response=client.describe_project_versions(ProjectArn=project_arn,\n",
    "            VersionNames=[version_name])\n",
    "        for model in describe_response['ProjectVersionDescriptions']:\n",
    "            print(\"Status: \" + model['Status'])\n",
    "            print(\"Message: \" + model['StatusMessage']) \n",
    "    except Exception as e:\n",
    "        print(e)\n",
    "        \n",
    "    print('Done...')\n",
    "    \n",
    "def main():\n",
    "    project_arn='arn:aws:rekognition:us-west-2:406078665760:project/SmartStream-evm-custom-label-Dec2021/1640107420943'\n",
    "    model_arn='arn:aws:rekognition:us-west-2:406078665760:project/SmartStream-evm-custom-label-Dec2021/version/SmartStream-evm-custom-label-Dec2021.2021-12-21T13.46.11/1640119571232'\n",
    "    min_inference_units=1 \n",
    "    version_name='SmartStream-evm-custom-label-Dec2021.2021-12-21T13.46.11'\n",
    "    start_model(project_arn, model_arn, version_name, min_inference_units)\n",
    "\n",
    "if __name__ == \"__main__\":\n",
    "    main()"
   ]
  },
  {
   "cell_type": "code",
   "execution_count": 10,
   "id": "b8f95b45",
   "metadata": {},
   "outputs": [],
   "source": [
    "#Copyright 2020 Amazon.com, Inc. or its affiliates. All Rights Reserved.\n",
    "#PDX-License-Identifier: MIT-0 (For details, see https://github.com/awsdocs/amazon-rekognition-custom-labels-developer-guide/blob/master/LICENSE-SAMPLECODE.)\n",
    "\n",
    "import json\n",
    "import boto3\n",
    "import cv2\n",
    "import math\n",
    "import io\n",
    "\n",
    "def analyzeVideo():\n",
    "    videoFile = \"Evm_alert_3.mp4\"\n",
    "    projectVersionArn = 'arn:aws:rekognition:us-west-2:406078665760:project/SmartStream-evm-custom-label-Dec2021/version/SmartStream-evm-custom-label-Dec2021.2021-12-21T13.46.11/1640119571232'\n",
    "\n",
    "    rekognition = boto3.client('rekognition')        \n",
    "    customLabels = []    \n",
    "    cap = cv2.VideoCapture(videoFile)\n",
    "    frameRate = cap.get(5) #frame rate\n",
    "    while(cap.isOpened()):\n",
    "        frameId = cap.get(1) #current frame number\n",
    "        print(\"Processing frame id: {}\".format(frameId))\n",
    "        ret, frame = cap.read()\n",
    "        if (ret != True):\n",
    "            break\n",
    "        if (frameId % math.floor(frameRate) == 0):\n",
    "            hasFrame, imageBytes = cv2.imencode(\".jpg\", frame)\n",
    "\n",
    "            if(hasFrame):\n",
    "                response = rekognition.detect_custom_labels(\n",
    "                    Image={\n",
    "                        'Bytes': imageBytes.tobytes(),\n",
    "                    },\n",
    "                    ProjectVersionArn = projectVersionArn\n",
    "                )\n",
    "            \n",
    "            for elabel in response[\"CustomLabels\"]:\n",
    "                elabel[\"Timestamp\"] = (frameId/frameRate)*1000\n",
    "                customLabels.append(elabel)\n",
    "    \n",
    "    # use red for alert and blue for ok\n",
    "    #if (customLabels['Name'] == \"evm_alert\"):\n",
    "    #        print(\"evm_alert\")\n",
    "    #else:\n",
    "    #        print(\"evm_ok\")\n",
    "                \n",
    "    #print(customLabels)\n",
    "\n",
    "    with open(videoFile + \".json\", \"w\") as f:\n",
    "        f.write(json.dumps(customLabels)) \n",
    "\n",
    "    cap.release()\n",
    "\n"
   ]
  },
  {
   "cell_type": "code",
   "execution_count": 11,
   "id": "f81b651f",
   "metadata": {},
   "outputs": [],
   "source": [
    "analyzeVideo()"
   ]
  },
  {
   "cell_type": "code",
   "execution_count": null,
   "id": "80b0547b",
   "metadata": {},
   "outputs": [],
   "source": [
    "# stop the model so you don't get charged\n",
    "import boto3\n",
    "import time\n",
    "\n",
    "\n",
    "def stop_model(model_arn):\n",
    "\n",
    "    client=boto3.client('rekognition')\n",
    "\n",
    "    print('Stopping model:' + model_arn)\n",
    "\n",
    "    #Stop the model\n",
    "    try:\n",
    "        response=client.stop_project_version(ProjectVersionArn=model_arn)\n",
    "        status=response['Status']\n",
    "        print ('Status: ' + status)\n",
    "    except Exception as e:  \n",
    "        print(e)  \n",
    "\n",
    "    print('Done...')\n",
    "    \n",
    "def main():\n",
    "    \n",
    "    model_arn='arn:aws:rekognition:us-west-2:406078665760:project/SmartStream-evm-custom-label-Dec2021/version/SmartStream-evm-custom-label-Dec2021.2021-12-21T13.46.11/1640119571232'\n",
    "    stop_model(model_arn)\n",
    "\n",
    "if __name__ == \"__main__\":\n",
    "    main() "
   ]
  }
 ],
 "metadata": {
  "kernelspec": {
   "display_name": "conda_python3",
   "language": "python",
   "name": "conda_python3"
  },
  "language_info": {
   "codemirror_mode": {
    "name": "ipython",
    "version": 3
   },
   "file_extension": ".py",
   "mimetype": "text/x-python",
   "name": "python",
   "nbconvert_exporter": "python",
   "pygments_lexer": "ipython3",
   "version": "3.6.13"
  }
 },
 "nbformat": 4,
 "nbformat_minor": 5
}
